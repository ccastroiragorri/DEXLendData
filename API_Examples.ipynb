{
 "cells": [
  {
   "cell_type": "markdown",
   "metadata": {},
   "source": [
    "# API examples"
   ]
  },
  {
   "cell_type": "code",
   "execution_count": 2,
   "metadata": {},
   "outputs": [],
   "source": [
    "#Libraries\n",
    "import pandas as pd\n",
    "import numpy as np\n",
    "import scipy\n",
    "import matplotlib.pyplot as plt\n",
    "import requests"
   ]
  },
  {
   "cell_type": "code",
   "execution_count": 4,
   "metadata": {},
   "outputs": [],
   "source": [
    "url = 'http://www.omdbapi.com/?t=hackers'\n",
    "r = requests.get(url)\n",
    "json_data = r.json()\n",
    "#for key, value in json_data.items():\n",
    "#print(key + ':', value)"
   ]
  },
  {
   "cell_type": "code",
   "execution_count": 5,
   "metadata": {},
   "outputs": [
    {
     "data": {
      "text/plain": [
       "{'Response': 'False', 'Error': 'No API key provided.'}"
      ]
     },
     "execution_count": 5,
     "metadata": {},
     "output_type": "execute_result"
    }
   ],
   "source": [
    "json_data"
   ]
  },
  {
   "cell_type": "code",
   "execution_count": 10,
   "metadata": {},
   "outputs": [],
   "source": [
    "url = 'https://api.compound.finance/api/v2/market_history/graph?asset=0xf5dce57282a584d2746faf1593d3121fcac444dc&min_block_timestamp=1556747900&max_block_timestamp=1559339900&num_buckets=1'\n",
    "r = requests.get(url)\n",
    "json_data = r.json()"
   ]
  },
  {
   "cell_type": "code",
   "execution_count": 11,
   "metadata": {},
   "outputs": [
    {
     "data": {
      "text/plain": [
       "{'asset': '0xf5dce57282a584d2746faf1593d3121fcac444dc',\n",
       " 'borrow_rates': [{'block_number': 7548206,\n",
       "   'block_timestamp': 1556747900,\n",
       "   'rate': 0.07587375708553878}],\n",
       " 'error': {'error_code': 0, 'field_errors': {}, 'message': ''},\n",
       " 'exchange_rates': [{'block_number': 7548206,\n",
       "   'block_timestamp': 1556747900,\n",
       "   'rate': 0.019231605230634316}],\n",
       " 'prices_usd': [{'block_number': 7548206,\n",
       "   'block_timestamp': 1556747900,\n",
       "   'price': {'value': '0.000000'}}],\n",
       " 'supply_rates': [{'block_number': 7548206,\n",
       "   'block_timestamp': 1556747900,\n",
       "   'rate': 0.015037595451089554}],\n",
       " 'total_borrows_history': [{'block_number': 7548206,\n",
       "   'block_timestamp': 1556747900,\n",
       "   'total': {'value': '1050.235937851493899788'}}],\n",
       " 'total_supply_history': [{'block_number': 7548206,\n",
       "   'block_timestamp': 1556747900,\n",
       "   'total': {'value': '232604.533648984615'}}]}"
      ]
     },
     "execution_count": 11,
     "metadata": {},
     "output_type": "execute_result"
    }
   ],
   "source": [
    "json_data"
   ]
  },
  {
   "cell_type": "code",
   "execution_count": 20,
   "metadata": {},
   "outputs": [],
   "source": [
    "params = {\"asset\": \"0xf5dce57282a584d2746faf1593d3121fcac444dc\",\n",
    " \"min_block_timestamp\": 1556747900,\n",
    " \"max_block_timestamp\": 1559339900,\n",
    " \"num_buckets\": 50}\n",
    "url2 = 'https://api.compound.finance/api/v2/market_history/graph'\n",
    "r2 = requests.get(url2,params)\n",
    "json_data2 = r2.json()"
   ]
  },
  {
   "cell_type": "code",
   "execution_count": 21,
   "metadata": {},
   "outputs": [
    {
     "data": {
      "text/plain": [
       "{'asset': '0xf5dce57282a584d2746faf1593d3121fcac444dc',\n",
       " 'borrow_rates': [{'block_number': 7709795,\n",
       "   'block_timestamp': 1558873347,\n",
       "   'rate': 0.05126749646746255},\n",
       "  {'block_number': 7713737,\n",
       "   'block_timestamp': 1558925188,\n",
       "   'rate': 0.05599111498245676},\n",
       "  {'block_number': 7717679,\n",
       "   'block_timestamp': 1558977028,\n",
       "   'rate': 0.06647948625056993},\n",
       "  {'block_number': 7721621,\n",
       "   'block_timestamp': 1559028868,\n",
       "   'rate': 0.08591001410762814},\n",
       "  {'block_number': 7725563,\n",
       "   'block_timestamp': 1559080708,\n",
       "   'rate': 0.08787565239075597},\n",
       "  {'block_number': 7729506,\n",
       "   'block_timestamp': 1559132548,\n",
       "   'rate': 0.09534603495137028},\n",
       "  {'block_number': 7733448,\n",
       "   'block_timestamp': 1559184389,\n",
       "   'rate': 0.09468486112606057},\n",
       "  {'block_number': 7737390,\n",
       "   'block_timestamp': 1559236229,\n",
       "   'rate': 0.09466991979189494}],\n",
       " 'error': {'error_code': 0, 'field_errors': {}, 'message': ''},\n",
       " 'exchange_rates': [{'block_number': 7709795,\n",
       "   'block_timestamp': 1558873347,\n",
       "   'rate': 0.015000000001440415},\n",
       "  {'block_number': 7713737,\n",
       "   'block_timestamp': 1558925188,\n",
       "   'rate': 0.02000001148260913},\n",
       "  {'block_number': 7717679,\n",
       "   'block_timestamp': 1558977028,\n",
       "   'rate': 0.0200001057000877},\n",
       "  {'block_number': 7721621,\n",
       "   'block_timestamp': 1559028868,\n",
       "   'rate': 0.020000542911111852},\n",
       "  {'block_number': 7725563,\n",
       "   'block_timestamp': 1559080708,\n",
       "   'rate': 0.02000138577719557},\n",
       "  {'block_number': 7729506,\n",
       "   'block_timestamp': 1559132548,\n",
       "   'rate': 0.020001972417057187},\n",
       "  {'block_number': 7733448,\n",
       "   'block_timestamp': 1559184389,\n",
       "   'rate': 0.020002819325482552},\n",
       "  {'block_number': 7737390,\n",
       "   'block_timestamp': 1559236229,\n",
       "   'rate': 0.02000393515515299}],\n",
       " 'prices_usd': [{'block_number': 7709795,\n",
       "   'block_timestamp': 1558873347,\n",
       "   'price': {'value': '0.000000'}},\n",
       "  {'block_number': 7713737,\n",
       "   'block_timestamp': 1558925188,\n",
       "   'price': {'value': '0.000000'}},\n",
       "  {'block_number': 7717679,\n",
       "   'block_timestamp': 1558977028,\n",
       "   'price': {'value': '0.000000'}},\n",
       "  {'block_number': 7721621,\n",
       "   'block_timestamp': 1559028868,\n",
       "   'price': {'value': '0.000000'}},\n",
       "  {'block_number': 7725563,\n",
       "   'block_timestamp': 1559080708,\n",
       "   'price': {'value': '0.000000'}},\n",
       "  {'block_number': 7729506,\n",
       "   'block_timestamp': 1559132548,\n",
       "   'price': {'value': '0.000000'}},\n",
       "  {'block_number': 7733448,\n",
       "   'block_timestamp': 1559184389,\n",
       "   'price': {'value': '0.000000'}},\n",
       "  {'block_number': 7737390,\n",
       "   'block_timestamp': 1559236229,\n",
       "   'price': {'value': '0.000000'}}],\n",
       " 'supply_rates': [{'block_number': 7709795,\n",
       "   'block_timestamp': 1558873347,\n",
       "   'rate': 0.0},\n",
       "  {'block_number': 7713737,\n",
       "   'block_timestamp': 1558925188,\n",
       "   'rate': 0.0018832929709664558},\n",
       "  {'block_number': 7717679,\n",
       "   'block_timestamp': 1558977028,\n",
       "   'rate': 0.008937872535673724},\n",
       "  {'block_number': 7721621,\n",
       "   'block_timestamp': 1559028868,\n",
       "   'rate': 0.020345609284940835},\n",
       "  {'block_number': 7725563,\n",
       "   'block_timestamp': 1559080708,\n",
       "   'rate': 0.022065178903982057},\n",
       "  {'block_number': 7729506,\n",
       "   'block_timestamp': 1559132548,\n",
       "   'rate': 0.028466830995379326},\n",
       "  {'block_number': 7733448,\n",
       "   'block_timestamp': 1559184389,\n",
       "   'rate': 0.027847642411265285},\n",
       "  {'block_number': 7737390,\n",
       "   'block_timestamp': 1559236229,\n",
       "   'rate': 0.027834050066642538}],\n",
       " 'total_borrows_history': [{'block_number': 7709795,\n",
       "   'block_timestamp': 1558873347,\n",
       "   'total': {'value': '0E-20'}},\n",
       "  {'block_number': 7713737,\n",
       "   'block_timestamp': 1558925188,\n",
       "   'total': {'value': '150.002558775026853500'}},\n",
       "  {'block_number': 7717679,\n",
       "   'block_timestamp': 1558977028,\n",
       "   'total': {'value': '522.753370213311922973'}},\n",
       "  {'block_number': 7721621,\n",
       "   'block_timestamp': 1559028868,\n",
       "   'total': {'value': '1702.184986200754215400'}},\n",
       "  {'block_number': 7725563,\n",
       "   'block_timestamp': 1559080708,\n",
       "   'total': {'value': '1810.511734750823132107'}},\n",
       "  {'block_number': 7729506,\n",
       "   'block_timestamp': 1559132548,\n",
       "   'total': {'value': '1860.587303643765295441'}},\n",
       "  {'block_number': 7733448,\n",
       "   'block_timestamp': 1559184389,\n",
       "   'total': {'value': '1831.947502406799224129'}},\n",
       "  {'block_number': 7737390,\n",
       "   'block_timestamp': 1559236229,\n",
       "   'total': {'value': '1832.283809058257562861'}}],\n",
       " 'total_supply_history': [{'block_number': 7709795,\n",
       "   'block_timestamp': 1558873347,\n",
       "   'total': {'value': '75262.924082028750'}},\n",
       "  {'block_number': 7713737,\n",
       "   'block_timestamp': 1558925188,\n",
       "   'total': {'value': '200832.098496105000'}},\n",
       "  {'block_number': 7717679,\n",
       "   'block_timestamp': 1558977028,\n",
       "   'total': {'value': '209599.897287092857'}},\n",
       "  {'block_number': 7721621,\n",
       "   'block_timestamp': 1559028868,\n",
       "   'total': {'value': '319002.738180728750'}},\n",
       "  {'block_number': 7725563,\n",
       "   'block_timestamp': 1559080708,\n",
       "   'total': {'value': '323934.761703678333'}},\n",
       "  {'block_number': 7729506,\n",
       "   'block_timestamp': 1559132548,\n",
       "   'total': {'value': '271712.507785517500'}},\n",
       "  {'block_number': 7733448,\n",
       "   'block_timestamp': 1559184389,\n",
       "   'total': {'value': '271506.252525200000'}},\n",
       "  {'block_number': 7737390,\n",
       "   'block_timestamp': 1559236229,\n",
       "   'total': {'value': '271631.179042405000'}}]}"
      ]
     },
     "execution_count": 21,
     "metadata": {},
     "output_type": "execute_result"
    }
   ],
   "source": [
    "json_data2"
   ]
  },
  {
   "cell_type": "code",
   "execution_count": null,
   "metadata": {},
   "outputs": [],
   "source": []
  }
 ],
 "metadata": {
  "kernelspec": {
   "display_name": "Python 3",
   "language": "python",
   "name": "python3"
  },
  "language_info": {
   "codemirror_mode": {
    "name": "ipython",
    "version": 3
   },
   "file_extension": ".py",
   "mimetype": "text/x-python",
   "name": "python",
   "nbconvert_exporter": "python",
   "pygments_lexer": "ipython3",
   "version": "3.7.9"
  }
 },
 "nbformat": 4,
 "nbformat_minor": 2
}
